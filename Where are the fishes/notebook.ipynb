{
 "cells": [
  {
   "cell_type": "markdown",
   "metadata": {
    "dc": {
     "key": "2"
    },
    "deletable": false,
    "editable": false,
    "run_control": {
     "frozen": true
    },
    "tags": [
     "context"
    ]
   },
   "source": [
    "## 1. Backscatter - remote sensing in the ocean\n",
    "<p><img align=\"right\" width=\"400\" height=\"1000\" src=\"https://s3.amazonaws.com/assets.datacamp.com/production/project_547/img/4167340394_cc0b979fac_b_crop.jpg\"> </p>\n",
    "<p>Reflections. No, I’m not talking about contemplating your existence within the Tidyverse or understanding\n",
    "what that spline did to your data. I’m talking about echoes. Specifically, sound echoes called “backscatter.” Marine scientists use backscatter to understand the distribution of organisms in the ocean.</p>\n",
    "<p>In this analysis, we are going to wrangle active acoustic data and plot the mean volume backscatter associated with fish with swim-bladders in relation to bathymetry (depth of the sea floor).</p>\n",
    "<p>These acoustic data were collected from a research vessel that crossed the shelf break in the Mid-Atlantic Bight (<a href=\"https://data.nodc.noaa.gov/cgi-bin/iso?id=gov.noaa.ngdc.mgg.wcd:HB1103_EK60\">NOAA cruise HB1103</a>) and were preprocessed using the software, <a href=\"https://www.echoview.com/\">Echoview</a>.</p>"
   ]
  },
  {
   "cell_type": "code",
   "execution_count": 1,
   "metadata": {
    "dc": {
     "key": "2"
    },
    "tags": [
     "sample_code"
    ]
   },
   "outputs": [
    {
     "name": "stderr",
     "output_type": "stream",
     "text": [
      "-- Attaching packages --------------------------------------- tidyverse 1.2.1 --\n",
      "v ggplot2 3.1.1     v purrr   0.3.2\n",
      "v tibble  2.1.3     v dplyr   0.8.1\n",
      "v tidyr   0.8.3     v stringr 1.4.0\n",
      "v readr   1.3.1     v forcats 0.4.0\n",
      "-- Conflicts ------------------------------------------ tidyverse_conflicts() --\n",
      "x dplyr::filter() masks stats::filter()\n",
      "x dplyr::lag()    masks stats::lag()\n",
      "\n",
      "Attaching package: 'lubridate'\n",
      "\n",
      "The following object is masked from 'package:base':\n",
      "\n",
      "    date\n",
      "\n",
      "\n",
      "Attaching package: 'gridExtra'\n",
      "\n",
      "The following object is masked from 'package:dplyr':\n",
      "\n",
      "    combine\n",
      "\n"
     ]
    },
    {
     "name": "stdout",
     "output_type": "stream",
     "text": [
      "Observations: 2,766\n",
      "Variables: 10\n",
      "$ Ping_date         <dttm> 2011-06-18, 2011-06-18, 2011-06-18, 2011-06-18, ...\n",
      "$ Ping_time         <drtn> 09:53:37, 09:53:42, 09:58:47, 09:58:52, 09:58:57...\n",
      "$ Ping_milliseconds <dbl> 725, 741, 866, 866, 866, 866, 882, 882, 882, 882,...\n",
      "$ Latitude          <dbl> 999.00000, 38.29771, 38.29429, 38.29424, 38.29418...\n",
      "$ Longitude         <dbl> 999.00000, -74.00185, -73.99677, -73.99666, -73.9...\n",
      "$ Position_status   <dbl> 4, 3, 1, 1, 1, 1, 1, 1, 1, 1, 1, 1, 1, 1, 1, 1, 1...\n",
      "$ Depth             <dbl> 68.60377, 68.60024, 68.78515, 68.77859, 68.37986,...\n",
      "$ Line_status       <dbl> 1, 1, 1, 1, 1, 1, 1, 1, 1, 1, 1, 1, 1, 1, 1, 1, 1...\n",
      "$ Ping_status       <dbl> 0, 0, 0, 0, 0, 0, 0, 0, 0, 0, 0, 0, 0, 0, 0, 0, 0...\n",
      "$ Altitude          <dbl> -9.9e+37, 0.0e+00, 0.0e+00, 0.0e+00, 0.0e+00, 0.0...\n"
     ]
    }
   ],
   "source": [
    "# Load the libraries\n",
    "library(tidyverse)\n",
    "library(lubridate)\n",
    "library(geosphere)\n",
    "library(gridExtra)\n",
    "\n",
    "# Read in the depth data\n",
    "bottom <- read_csv(\"datasets/bottom_line.csv\", col_types = cols(Ping_date = col_datetime(format = \"%m/%d/%Y\")))\n",
    "\n",
    "# Inspect the first six rows\n",
    "glimpse(bottom)"
   ]
  },
  {
   "cell_type": "markdown",
   "metadata": {
    "dc": {
     "key": "9"
    },
    "deletable": false,
    "editable": false,
    "run_control": {
     "frozen": true
    },
    "tags": [
     "context"
    ]
   },
   "source": [
    "## 2. What is the \"shelf break\"?\n",
    "<p><img src=\"https://s3.amazonaws.com/assets.datacamp.com/production/project_547/img/map_trkln.png\" alt=\"map_trkln\"></p>\n",
    "<p>The red line in the map above is the ship's track across the shelf break in the Mid-Atlantic Bight. But what is the \"shelf break\"? It's “The Big Drop-off!”. It's the underwater version of a cliff. In most marine ecosystems the shelf break is also a highly dynamic and productive area that provides homes and excellent buffets for many marine species. The smallest phytoplankton to the largest marine mammals, sharks, seabirds, tunas, and sea turtles - they all use this area at some point in their life cycles. And, we’re going to play with some active acoustic data from this fantastic region!</p>\n",
    "<p>But first, let's clean up the bathymetry (depth) data and get it ready for plotting.</p>"
   ]
  },
  {
   "cell_type": "code",
   "execution_count": 13,
   "metadata": {
    "dc": {
     "key": "9"
    },
    "tags": [
     "sample_code"
    ]
   },
   "outputs": [
    {
     "name": "stdout",
     "output_type": "stream",
     "text": [
      "Observations: 2,764\n",
      "Variables: 10\n",
      "$ Ping_date <dttm> 2011-06-18, 2011-06-18, 2011-06-18, 2011-06-18, 2011-06-...\n",
      "$ Ping_time <drtn> 09:58:47, 09:58:52, 09:58:57, 09:59:02, 09:59:07, 09:59:...\n",
      "$ Latitude  <dbl> 38.29429, 38.29424, 38.29418, 38.29411, 38.29404, 38.2939...\n",
      "$ Longitude <dbl> -73.99677, -73.99666, -73.99653, -73.99641, -73.99627, -7...\n",
      "$ Depth     <dbl> 68.78515, 68.77859, 68.37986, 68.37986, 68.37986, 68.3803...\n",
      "$ DT        <dttm> 2011-06-18 09:58:47, 2011-06-18 09:58:52, 2011-06-18 09:...\n",
      "$ dist      <dbl> 0.00000, 11.47956, 12.77948, 13.24406, 14.17050, 15.34577...\n",
      "$ distalong <dbl> 0.00000, 11.47956, 24.25904, 37.50310, 51.67360, 67.01937...\n",
      "$ t_diff    <dbl> NA, 5, 5, 5, 5, 5, 5, 5, 5, 5, 5, 5, 5, 5, 5, 5, 5, 5, 5,...\n",
      "$ m_per_sec <dbl> NA, 2.295913, 2.555895, 2.648813, 2.834099, 3.069153, 3.0...\n"
     ]
    }
   ],
   "source": [
    "# Clean the bottom data\n",
    "bottom_clean <- bottom %>%\n",
    "  # .... YOUR CODE FOR TASK 2 ....\n",
    "   filter(Position_status == 1) %>%\n",
    "    select(Ping_date,Ping_time,Latitude,Longitude,Depth)%>%\n",
    "  # .... YOUR CODE FOR TASK 2 ....\n",
    "  mutate(DT = Ping_date + Ping_time,\n",
    "       dist = c(0, distHaversine(cbind(Longitude[-n()], Latitude[-n()]),\n",
    "                                 cbind(Longitude[ -1], Latitude[ -1]))),                         \n",
    "       distalong = cumsum(dist),\n",
    "       t_diff = c(NA, difftime(DT[ -1], DT[-n()], units = \"secs\")),\n",
    "       m_per_sec = dist/t_diff)\n",
    "  \n",
    "# Inspect the first six rows\n",
    "# .... YOUR CODE FOR TASK 2 ....\n",
    "glimpse(bottom_clean)"
   ]
  },
  {
   "cell_type": "markdown",
   "metadata": {
    "dc": {
     "key": "16"
    },
    "deletable": false,
    "editable": false,
    "run_control": {
     "frozen": true
    },
    "tags": [
     "context"
    ]
   },
   "source": [
    "## 3. Where ever you go, there you are\n",
    "<p>Now that we have removed the bad data points and calculated the cumulative distance the ship traveled, let's plot the data to see if our calculation makes sense. A horizontal view of the ship's track will show us if the ship deviated from the track line or if there were any breaks in the data. A plot of the depth of the sea floor along the track line will show us the position of the shelf break. In a spatial analysis of the track line data, we would typically work in the packages <code>sp</code> and <code>sf</code>, but that's a topic all its own. For now, we'll create a couple of track line plots with the latitude, longitude, depth, and distance along the track line.</p>"
   ]
  },
  {
   "cell_type": "code",
   "execution_count": 15,
   "metadata": {
    "dc": {
     "key": "16"
    },
    "tags": [
     "sample_code"
    ]
   },
   "outputs": [
    {
     "data": {
      "image/png": "[encoded data removed]",
      "text/plain": [
       "plot without title"
      ]
     },
     "metadata": {},
     "output_type": "display_data"
    }
   ],
   "source": [
    "# Reduce the size of the plots\n",
    "options(repr.plot.width = 7, repr.plot.height = 5)\n",
    "\n",
    "# Plot the ship's track\n",
    "p_LonLat  <- ggplot(bottom_clean, aes( x = Longitude, y = Latitude)) +\n",
    "  #.... YOUR CODE FOR TASK 3 ....\n",
    "  geom_point( size = 0.5 )+\n",
    "  #.... YOUR CODE FOR TASK 3 ....\n",
    "  labs( x = \"longitude\", y = \"latitude\")\n",
    "# Plot the depth of the sea floor along the ship's track\n",
    "p_bthy  <-  ggplot(bottom_clean, aes( x = distalong, y = Depth )) +\n",
    "  #.... YOUR CODE FOR TASK 3 ....\n",
    "  geom_point( size = 0.5)+ scale_y_reverse()+\n",
    "  #.... YOUR CODE FOR TASK 3 ....\n",
    "  labs(x = \"Distance along trackline (m)\", y = \"Depth (m)\")\n",
    "\n",
    "# Arrange the plots side by side for easier viewing\n",
    "grid.arrange(p_LonLat, p_bthy, nrow = 1)"
   ]
  },
  {
   "cell_type": "markdown",
   "metadata": {
    "dc": {
     "key": "23"
    },
    "deletable": false,
    "editable": false,
    "run_control": {
     "frozen": true
    },
    "tags": [
     "context"
    ]
   },
   "source": [
    "## 4. What's the difference?\n",
    "<p>It looks like the straight track line isn't so straight. This happens quite often with data collected in this area. There is a lot of fishing gear in the shelf break region of the Mid-Atlantic Bight, and sometimes the ship must divert from the track line to avoid it. It is also possible that the GPS signal was lost for a few minutes. Let's find out what the difference is between the straight-line length of the track line (start point to endpoint) and the cumulative distance the ship traveled.</p>\n",
    "<p>Calculating the difference between the cumulative meters traveled and the straight-line distance of the track line is a common task - a perfect time to create a function to use on other track line data files!</p>"
   ]
  },
  {
   "cell_type": "code",
   "execution_count": 17,
   "metadata": {
    "dc": {
     "key": "23"
    },
    "tags": [
     "sample_code"
    ]
   },
   "outputs": [
    {
     "data": {
      "text/html": [
       "513.3"
      ],
      "text/latex": [
       "513.3"
      ],
      "text/markdown": [
       "513.3"
      ],
      "text/plain": [
       "[1] 513.3"
      ]
     },
     "metadata": {},
     "output_type": "display_data"
    }
   ],
   "source": [
    "# Create the function\n",
    "distance_diff <- function(bottom_data){\n",
    "  cumulative_dist <- last(bottom_data$distalong)\n",
    "  start <- cbind(first(bottom_data$Longitude), first(bottom_data$Latitude))\n",
    "  end <- cbind(last(bottom_data$Longitude), last(bottom_data$Latitude))\n",
    "  straight_line_dist <-  distHaversine(start, end)\n",
    "  return(round(cumulative_dist - straight_line_dist, 1))\n",
    "}\n",
    "\n",
    "# Run distance_diff on the cleaned bottom data\n",
    "# .... YOUR CODE FOR TASK 4 ....\n",
    "distance_diff(bottom_clean)"
   ]
  },
  {
   "cell_type": "markdown",
   "metadata": {
    "dc": {
     "key": "30"
    },
    "deletable": false,
    "editable": false,
    "run_control": {
     "frozen": true
    },
    "tags": [
     "context"
    ]
   },
   "source": [
    "## 5. Here fishy, fishy, fishy...\n",
    "<p>In the grand scheme of track line diversions, a 513-meter difference isn't too bad. This difference could play a larger or small role in the data analysis depending on the ecological question being asked. For now, we'll keep it in mind as we load, clean, and plot out the acoustic data.</p>\n",
    "<p>Volume backscatter is the integration of all the returned echoes within the sampling volume. It's a measure of the relative density of organisms. In this case, because we preprocessed the data in <a href=\"https://www.echoview.com/\">Echoview</a> to look for fish-like scattering, our final plot of the volume backscatter data, <code>Sv_mean</code>, will give us an indication of the distribution of fish along the track line.</p>\n",
    "<p>Will there be sections of the track line with higher/lower densities if fish? Let's find out!</p>"
   ]
  },
  {
   "cell_type": "code",
   "execution_count": 19,
   "metadata": {
    "dc": {
     "key": "30"
    },
    "tags": [
     "sample_code"
    ]
   },
   "outputs": [
    {
     "name": "stdout",
     "output_type": "stream",
     "text": [
      "Observations: 724\n",
      "Variables: 78\n",
      "$ Process_ID                           <dbl> 20216, 20216, 20216, 20216, 20...\n",
      "$ Interval                             <dbl> 4, 5, 6, 7, 8, 9, 10, 11, 12, ...\n",
      "$ Layer                                <dbl> 1, 1, 1, 1, 1, 1, 1, 1, 1, 1, ...\n",
      "$ Sv_mean                              <dbl> -67.97805, -67.65053, -66.6586...\n",
      "$ NASC                                 <dbl> 365.6001, 429.4046, 539.5769, ...\n",
      "$ Sv_max                               <dbl> -53.93325, -54.51390, -51.3186...\n",
      "$ Sv_min                               <dbl> -88.67275, -87.36100, -88.9946...\n",
      "$ Sv_noise                             <dbl> -967.8684, -967.6432, -967.623...\n",
      "$ NASC_noise                           <dbl> 0, 0, 0, 0, 0, 0, 0, 0, 0, 0, ...\n",
      "$ Height_mean                          <dbl> 53.25000, 58.00000, 58.00000, ...\n",
      "$ Depth_mean                           <dbl> 39.04617, 39.00000, 39.00000, ...\n",
      "$ Good_samples                         <dbl> 639, 522, 464, 464, 406, 464, ...\n",
      "$ Layer_depth_min                      <dbl> 0, 0, 0, 0, 0, 0, 0, 0, 0, 0, ...\n",
      "$ Layer_depth_max                      <dbl> 250, 250, 250, 250, 250, 250, ...\n",
      "$ Ping_S                               <dbl> 2, 14, 23, 31, 39, 46, 54, 61,...\n",
      "$ Ping_E                               <dbl> 13, 22, 30, 38, 45, 53, 60, 68...\n",
      "$ Ping_M                               <dbl> 7, 18, 26, 34, 42, 49, 57, 64,...\n",
      "$ Dist_S                               <dbl> 609.2889, 804.8728, 1010.5880,...\n",
      "$ Dist_E                               <dbl> 783.8686, 985.7557, 1188.6826,...\n",
      "$ Dist_M                               <dbl> 676.6425, 891.7338, 1086.3678,...\n",
      "$ VL_start                             <dbl> 600.4773, 785.7129, 986.4694, ...\n",
      "$ VL_end                               <dbl> 767.8645, 962.5547, 1159.6140,...\n",
      "$ VL_mid                               <dbl> 664.4884, 869.5859, 1060.3471,...\n",
      "$ Date_S                               <dbl> 20110618, 20110618, 20110618, ...\n",
      "$ Time_S                               <drtn> 09:58:47, 09:59:47, 10:00:32,...\n",
      "$ Date_E                               <dbl> 20110618, 20110618, 20110618, ...\n",
      "$ Time_E                               <drtn> 09:59:42, 10:00:27, 10:01:07,...\n",
      "$ Date_M                               <dttm> 2011-06-18, 2011-06-18, 2011-...\n",
      "$ Time_M                               <drtn> 09:59:12, 10:00:07, 10:00:47,...\n",
      "$ Lat_S                                <dbl> 38.29429, 38.29343, 38.29261, ...\n",
      "$ Lon_S                                <dbl> -73.99677, -73.99486, -73.9927...\n",
      "$ Lat_E                                <dbl> 38.29351, 38.29271, 38.29188, ...\n",
      "$ Lon_E                                <dbl> -73.99506, -73.99301, -73.9909...\n",
      "$ Lat_M                                <dbl> 38.29396, 38.29309, 38.29230, ...\n",
      "$ Lon_M                                <dbl> -73.99612, -73.99397, -73.9920...\n",
      "$ Exclude_below_line_depth_mean        <dbl> 68.43658, 68.25401, 68.22956, ...\n",
      "$ Alpha                                <dbl> 0.007856, 0.007856, 0.007856, ...\n",
      "$ Gain_constant                        <dbl> -9999, -9999, -9999, -9999, -9...\n",
      "$ Noise_Sv_1m                          <dbl> -999, -999, -999, -999, -999, ...\n",
      "$ Minimum_Sv_threshold_applied         <dbl> 1, 1, 1, 1, 1, 1, 1, 1, 1, 1, ...\n",
      "$ Minimum_integration_threshold        <dbl> -90, -90, -90, -90, -90, -90, ...\n",
      "$ Maximum_Sv_threshold_applied         <dbl> 0, 0, 0, 0, 0, 0, 0, 0, 0, 0, ...\n",
      "$ Maximum_integration_threshold        <dbl> 99, 99, 99, 99, 99, 99, 99, 99...\n",
      "$ Exclude_above_line_applied           <dbl> 1, 1, 1, 1, 1, 1, 1, 1, 1, 1, ...\n",
      "$ Exclude_above_line_depth_mean        <dbl> 10, 10, 10, 10, 10, 10, 10, 10...\n",
      "$ Exclude_below_line_applied           <dbl> 1, 1, 1, 1, 1, 1, 1, 1, 1, 1, ...\n",
      "$ Bottom_offset                        <dbl> 0, 0, 0, 0, 0, 0, 0, 0, 0, 0, ...\n",
      "$ Standard_deviation                   <dbl> 3.67224e-07, 3.45837e-07, 5.51...\n",
      "$ Skewness                             <dbl> 6.287088, 5.815767, 7.528268, ...\n",
      "$ Kurtosis                             <dbl> 50.453991, 45.173827, 76.99483...\n",
      "$ ABC                                  <dbl> 8.48232e-06, 9.96265e-06, 1.25...\n",
      "$ ABC_noise                            <dbl> 0, 0, 0, 0, 0, 0, 0, 0, 0, 0, ...\n",
      "$ Area_Backscatter_Strength            <dbl> -50.71486, -50.01625, -49.0243...\n",
      "$ Thickness_mean                       <dbl> 53.25000, 58.00000, 58.00000, ...\n",
      "$ Range_mean                           <dbl> 33.04617, 33.00000, 33.00000, ...\n",
      "$ Exclude_below_line_range_mean        <dbl> 62.43658, 62.25401, 62.22956, ...\n",
      "$ Exclude_above_line_range_mean        <dbl> 4, 4, 4, 4, 4, 4, 4, 4, 4, 4, ...\n",
      "$ Bad_data_no_data_samples             <dbl> 59, 0, 0, 0, 0, 0, 0, 0, 0, 0,...\n",
      "$ Beam_volume_sum                      <dbl> 7299.070, 5945.382, 5284.784, ...\n",
      "$ No_data_samples                      <dbl> 0, 0, 0, 0, 0, 0, 0, 0, 0, 0, ...\n",
      "$ C_good_samples                       <dbl> 639, 522, 464, 464, 406, 464, ...\n",
      "$ C_bad_data_no_data_samples           <dbl> 59, 0, 0, 0, 0, 0, 0, 0, 0, 0,...\n",
      "$ C_no_data_samples                    <dbl> 0, 0, 0, 0, 0, 0, 0, 0, 0, 0, ...\n",
      "$ Frequency                            <dbl> 38, 38, 38, 38, 38, 38, 38, 38...\n",
      "$ Grid_reference_line                  <chr> \"\\\"Surface (depth of zero)\\\"\",...\n",
      "$ Layer_top_to_reference_line_depth    <dbl> 0, 0, 0, 0, 0, 0, 0, 0, 0, 0, ...\n",
      "$ Layer_top_to_reference_line_range    <dbl> -6, -6, -6, -6, -6, -6, -6, -6...\n",
      "$ Layer_bottom_to_reference_line_depth <dbl> 250, 250, 250, 250, 250, 250, ...\n",
      "$ Layer_bottom_to_reference_line_range <dbl> 244, 244, 244, 244, 244, 244, ...\n",
      "$ Exclude_below_line_depth_min         <dbl> 68.28604, 68.21009, 68.20790, ...\n",
      "$ Exclude_below_line_range_min         <dbl> 62.28604, 62.21009, 62.20790, ...\n",
      "$ Exclude_below_line_depth_max         <dbl> 68.78515, 68.28604, 68.26494, ...\n",
      "$ Exclude_below_line_range_max         <dbl> 62.78515, 62.28604, 62.26494, ...\n",
      "$ Samples_Below_Bottom_Exclusion       <dbl> 2182, 1638, 1456, 1456, 1274, ...\n",
      "$ Samples_Above_Surface_Exclusion      <dbl> 48, 36, 32, 32, 28, 32, 28, 32...\n",
      "$ Samples_In_Domain                    <dbl> 2928, 2196, 1952, 1952, 1708, ...\n",
      "$ Bad_data_empty_water_samples         <dbl> 0, 0, 0, 0, 0, 0, 0, 0, 0, 0, ...\n",
      "$ C_bad_data_empty_water_samples       <dbl> 0, 0, 0, 0, 0, 0, 0, 0, 0, 0, ...\n"
     ]
    }
   ],
   "source": [
    "# Read in the acoustic data\n",
    "acoustic <- read_csv(\"datasets/acoustic_LgSBF.csv\", col_types = cols(Date_M = col_datetime(format = \"%Y%m%d\"))) %>% \n",
    "  # .... YOUR CODE FOR TASK 5 ....\n",
    "filter(Lon_M != 999.0) \n",
    "# Glimpse the data\n",
    "# .... YOUR CODE FOR TASK 5 ....\n",
    "glimpse(acoustic)"
   ]
  },
  {
   "cell_type": "markdown",
   "metadata": {
    "dc": {
     "key": "37"
    },
    "deletable": false,
    "editable": false,
    "run_control": {
     "frozen": true
    },
    "tags": [
     "context"
    ]
   },
   "source": [
    "## 6. That's a lot of variables!\n",
    "<p><strong>Wow! 724 observations of 78 variables!</strong> This is the full data export from Echoview, but remember, we’re only interested in the volume backscatter data, <code>Sv_mean</code>, and the few other variables needed to plot the data. </p>\n",
    "<p>These backscatter data were integrated into grid cells that are 200 meters along the ship’s path (numbered in the variable, <code>Interval</code>), by 250 meters deep, (numbered in the variable, <code>Layer</code>), making a coordinate system referenced to the ship’s path and depth. We are going to explore the first depth layer.</p>"
   ]
  },
  {
   "cell_type": "code",
   "execution_count": 21,
   "metadata": {
    "dc": {
     "key": "37"
    },
    "tags": [
     "sample_code"
    ]
   },
   "outputs": [
    {
     "name": "stdout",
     "output_type": "stream",
     "text": [
      "Observations: 362\n",
      "Variables: 11\n",
      "$ sp_interval <dbl> 4, 5, 6, 7, 8, 9, 10, 11, 12, 13, 14, 15, 16, 17, 18, 1...\n",
      "$ Layer       <dbl> 1, 1, 1, 1, 1, 1, 1, 1, 1, 1, 1, 1, 1, 1, 1, 1, 1, 1, 1...\n",
      "$ Sv_mean     <dbl> -67.97805, -67.65053, -66.65866, -68.24425, -69.02423, ...\n",
      "$ Frequency   <dbl> 38, 38, 38, 38, 38, 38, 38, 38, 38, 38, 38, 38, 38, 38,...\n",
      "$ Date_M      <dttm> 2011-06-18, 2011-06-18, 2011-06-18, 2011-06-18, 2011-0...\n",
      "$ Time_S      <drtn> 09:58:47, 09:59:47, 10:00:32, 10:01:12, 10:01:52, 10:0...\n",
      "$ Time_E      <drtn> 09:59:42, 10:00:27, 10:01:07, 10:01:47, 10:02:22, 10:0...\n",
      "$ Lat_M       <dbl> 38.29396, 38.29309, 38.29230, 38.29147, 38.29067, 38.29...\n",
      "$ Lon_M       <dbl> -73.99612, -73.99397, -73.99202, -73.98992, -73.98776, ...\n",
      "$ DT_S        <dttm> 2011-06-18 09:58:47, 2011-06-18 09:59:47, 2011-06-18 1...\n",
      "$ DT_E        <dttm> 2011-06-18 09:59:42, 2011-06-18 10:00:27, 2011-06-18 1...\n"
     ]
    }
   ],
   "source": [
    "# Create a list of variables to keep\n",
    "vars_keep <- c(\"Interval\", \"Layer\", \"Sv_mean\", \"Frequency\", \n",
    "               \"Date_M\", \"Time_S\", \"Time_E\", \"Lat_M\", \"Lon_M\")\n",
    "\n",
    "# Select, rename, filter, mutate, and arrange the data \n",
    "Sv_sbf_layer1 <- acoustic %>%\n",
    "    select(one_of(vars_keep)) %>% \n",
    "    rename(sp_interval = Interval) %>%\n",
    "    filter(Layer == 1)  %>% \n",
    "    mutate(DT_S = Date_M + Time_S,\n",
    "         DT_E = Date_M + Time_E)  %>% \n",
    "    arrange(DT_S) \n",
    "\n",
    "# Glimpse the cleaned acoustic data\n",
    "# .... YOUR CODE FOR TASK 6 ....\n",
    "glimpse(Sv_sbf_layer1)"
   ]
  },
  {
   "cell_type": "markdown",
   "metadata": {
    "dc": {
     "key": "44"
    },
    "deletable": false,
    "editable": false,
    "run_control": {
     "frozen": true
    },
    "tags": [
     "context"
    ]
   },
   "source": [
    "## 7. A little more wrangling\n",
    "<p>Great! All this is coming together nicely. In <code>bottom_clean</code> we have depth, distance along the track line, and timestamps. We now also have an almost clean acoustic dataset, <code>Sv_sbf_layer1</code>, with timestamps but no distance along the track line, and no depth information (we'll get to that in a minute). Also, <a href=\"https://www.echoview.com/\">Echoview</a> uses -999.0 to indicate NAs. We need to fix that or our plot of backscatter will look a little wonky. </p>"
   ]
  },
  {
   "cell_type": "code",
   "execution_count": 23,
   "metadata": {
    "dc": {
     "key": "44"
    },
    "tags": [
     "sample_code"
    ]
   },
   "outputs": [
    {
     "name": "stdout",
     "output_type": "stream",
     "text": [
      "Observations: 362\n",
      "Variables: 14\n",
      "$ sp_interval <dbl> 4, 5, 6, 7, 8, 9, 10, 11, 12, 13, 14, 15, 16, 17, 18, 1...\n",
      "$ Layer       <dbl> 1, 1, 1, 1, 1, 1, 1, 1, 1, 1, 1, 1, 1, 1, 1, 1, 1, 1, 1...\n",
      "$ Sv_mean     <dbl> -67.97805, -67.65053, -66.65866, -68.24425, -69.02423, ...\n",
      "$ Frequency   <dbl> 38, 38, 38, 38, 38, 38, 38, 38, 38, 38, 38, 38, 38, 38,...\n",
      "$ Date_M      <dttm> 2011-06-18, 2011-06-18, 2011-06-18, 2011-06-18, 2011-0...\n",
      "$ Time_S      <drtn> 09:58:47, 09:59:47, 10:00:32, 10:01:12, 10:01:52, 10:0...\n",
      "$ Time_E      <drtn> 09:59:42, 10:00:27, 10:01:07, 10:01:47, 10:02:22, 10:0...\n",
      "$ Lat_M       <dbl> 38.29396, 38.29309, 38.29230, 38.29147, 38.29067, 38.29...\n",
      "$ Lon_M       <dbl> -73.99612, -73.99397, -73.99202, -73.98992, -73.98776, ...\n",
      "$ DT_S        <dttm> 2011-06-18 09:58:47, 2011-06-18 09:59:47, 2011-06-18 1...\n",
      "$ DT_E        <dttm> 2011-06-18 09:59:42, 2011-06-18 10:00:27, 2011-06-18 1...\n",
      "$ dist_M      <dbl> 0.0000, 211.7871, 192.3324, 204.8778, 209.1278, 183.363...\n",
      "$ distalong   <dbl> 0.0000, 211.7871, 404.1196, 608.9974, 818.1252, 1001.48...\n",
      "$ tm_interval <Interval> 2011-06-18 09:58:47 UTC--2011-06-18 09:59:42 UTC, ...\n"
     ]
    }
   ],
   "source": [
    "# More data wrangling...\n",
    "Sv_sbf <- Sv_sbf_layer1 %>% \n",
    "  mutate(dist_M = c(0, distHaversine(cbind(Lon_M[-n()], Lat_M[-n()]),       \n",
    "                          cbind(Lon_M[  -1], Lat_M[  -1]))),\n",
    "       distalong = cumsum(dist_M)) %>%\n",
    "  na_if(-999.0) %>% \n",
    "  mutate(tm_interval = interval(DT_S, DT_E))\n",
    "\n",
    "# Glimpse the data\n",
    "# .... YOUR CODE FOR TASK 7 ....\n",
    "glimpse(Sv_sbf)"
   ]
  },
  {
   "cell_type": "markdown",
   "metadata": {
    "dc": {
     "key": "51"
    },
    "deletable": false,
    "editable": false,
    "run_control": {
     "frozen": true
    },
    "tags": [
     "context"
    ]
   },
   "source": [
    "## 8. Can't go spatial? Go temporal\n",
    "<p>There is no depth information in the acoustic file. Well, that's not exactly true. One of those 78 variables was a mean depth, but it was an average of an average, and it was not as accurate as the depth data we have in <code>bottom_clean</code>. </p>\n",
    "<p>You might have also noticed that the two data sets have different spatial resolutions. How can we pull the depth data out of <code>bottom_clean</code> and join it with the acoustic data? There are a few different spatial ways to do this, but because we are not working in the spatial packages, we'll write a function to figure out which data points from <code>bottom_clean</code> fall <em>within</em> the time interval, <code>tm_interval</code>, we just created.</p>"
   ]
  },
  {
   "cell_type": "code",
   "execution_count": 25,
   "metadata": {
    "dc": {
     "key": "51"
    },
    "tags": [
     "sample_code"
    ]
   },
   "outputs": [
    {
     "name": "stdout",
     "output_type": "stream",
     "text": [
      "Observations: 2,764\n",
      "Variables: 11\n",
      "$ Ping_date      <dttm> 2011-06-18, 2011-06-18, 2011-06-18, 2011-06-18, 201...\n",
      "$ Ping_time      <drtn> 09:58:47, 09:58:52, 09:58:57, 09:59:02, 09:59:07, 0...\n",
      "$ Latitude       <dbl> 38.29429, 38.29424, 38.29418, 38.29411, 38.29404, 38...\n",
      "$ Longitude      <dbl> -73.99677, -73.99666, -73.99653, -73.99641, -73.9962...\n",
      "$ Depth          <dbl> 68.78515, 68.77859, 68.37986, 68.37986, 68.37986, 68...\n",
      "$ DT             <dttm> 2011-06-18 09:58:47, 2011-06-18 09:58:52, 2011-06-1...\n",
      "$ dist           <dbl> 0.00000, 11.47956, 12.77948, 13.24406, 14.17050, 15....\n",
      "$ distalong      <dbl> 0.00000, 11.47956, 24.25904, 37.50310, 51.67360, 67....\n",
      "$ t_diff         <dbl> NA, 5, 5, 5, 5, 5, 5, 5, 5, 5, 5, 5, 5, 5, 5, 5, 5, ...\n",
      "$ m_per_sec      <dbl> NA, 2.295913, 2.555895, 2.648813, 2.834099, 3.069153...\n",
      "$ trkln_interval <dbl> 4, 4, 4, 4, 4, 4, 4, 4, 4, 4, 4, 4, 5, 5, 5, 5, 5, 5...\n"
     ]
    }
   ],
   "source": [
    "# Function: assign sp_interval to bottom points that fall within tm_interval\n",
    "get_Interval_by_time <- function(bottom_data){\n",
    "  res <- Sv_sbf$sp_interval[bottom_data %within% Sv_sbf$tm_interval]\n",
    "  if(length(res)==0) return(NA)         \n",
    "  return(res)\n",
    "}\n",
    "\n",
    "# Map the track line interval value to bottom_clean\n",
    "bottom_clean_int <- bottom_clean  %>% \n",
    "    mutate(trkln_interval = map_dbl(DT, get_Interval_by_time))\n",
    "\n",
    "# Inspect the first 15 rows\n",
    "# .... YOUR CODE FOR TASK 8 ....\n",
    "glimpse(bottom_clean_int)"
   ]
  },
  {
   "cell_type": "markdown",
   "metadata": {
    "dc": {
     "key": "58"
    },
    "deletable": false,
    "editable": false,
    "run_control": {
     "frozen": true
    },
    "tags": [
     "context"
    ]
   },
   "source": [
    "## 9. Depth of an Interval\n",
    "<p>Now that we have spatial track line intervals from the acoustic data assigned to each data point in <code>bottom_clean_int</code>, we can group the bottom data by the interval and calculate the mean depth for each <code>trkln_interval</code> along the track line.</p>"
   ]
  },
  {
   "cell_type": "code",
   "execution_count": 27,
   "metadata": {
    "dc": {
     "key": "58"
    },
    "tags": [
     "sample_code"
    ]
   },
   "outputs": [
    {
     "name": "stdout",
     "output_type": "stream",
     "text": [
      "Observations: 362\n",
      "Variables: 2\n",
      "$ trkln_interval <dbl> 4, 5, 6, 7, 8, 9, 10, 11, 12, 13, 14, 15, 16, 17, 18...\n",
      "$ depth_mean     <dbl> 68.43658, 68.25401, 68.22956, 68.10563, 68.14753, 67...\n"
     ]
    }
   ],
   "source": [
    "# Group bottom_clean and calculate the mean depth\n",
    "bottom_intervals <- bottom_clean_int %>%\n",
    "    group_by(trkln_interval) %>%\n",
    "    summarize(depth_mean = mean(Depth)) %>%\n",
    "    ungroup()\n",
    "\n",
    "# Inspect the first six rows of bottom_intervals\n",
    "# .... YOUR CODE FOR TASK 9 ....\n",
    "glimpse(bottom_intervals)"
   ]
  },
  {
   "cell_type": "markdown",
   "metadata": {
    "dc": {
     "key": "65"
    },
    "deletable": false,
    "editable": false,
    "run_control": {
     "frozen": true
    },
    "tags": [
     "context"
    ]
   },
   "source": [
    "## 10. Acoustic data, meet Depth data\n",
    "<p>We're almost ready to plot <code>Sv_mean</code> in relation to the bathymetry (depth) and find out where the high and low densities of fishes are along the track line. </p>\n",
    "<p>But first, the two datasets need to be joined. Unfortunately, at the time of writing, the temporal intervals created in <code>lubridate</code> do not play well with joins. We'll have to remove them for the join to work. Also, remember that we're only looking at the first depth layer (0 to 250 m). Because we do not want to insinuate that we're plotting data integrated over the entire water column, we will replace depths greater than 250 m with 250.</p>"
   ]
  },
  {
   "cell_type": "code",
   "execution_count": 29,
   "metadata": {
    "dc": {
     "key": "65"
    },
    "tags": [
     "sample_code"
    ]
   },
   "outputs": [
    {
     "name": "stdout",
     "output_type": "stream",
     "text": [
      "Observations: 362\n",
      "Variables: 15\n",
      "$ sp_interval <dbl> 4, 5, 6, 7, 8, 9, 10, 11, 12, 13, 14, 15, 16, 17, 18, 1...\n",
      "$ Layer       <dbl> 1, 1, 1, 1, 1, 1, 1, 1, 1, 1, 1, 1, 1, 1, 1, 1, 1, 1, 1...\n",
      "$ Sv_mean     <dbl> -67.97805, -67.65053, -66.65866, -68.24425, -69.02423, ...\n",
      "$ Frequency   <dbl> 38, 38, 38, 38, 38, 38, 38, 38, 38, 38, 38, 38, 38, 38,...\n",
      "$ Date_M      <dttm> 2011-06-18, 2011-06-18, 2011-06-18, 2011-06-18, 2011-0...\n",
      "$ Time_S      <drtn> 09:58:47, 09:59:47, 10:00:32, 10:01:12, 10:01:52, 10:0...\n",
      "$ Time_E      <drtn> 09:59:42, 10:00:27, 10:01:07, 10:01:47, 10:02:22, 10:0...\n",
      "$ Lat_M       <dbl> 38.29396, 38.29309, 38.29230, 38.29147, 38.29067, 38.29...\n",
      "$ Lon_M       <dbl> -73.99612, -73.99397, -73.99202, -73.98992, -73.98776, ...\n",
      "$ DT_S        <dttm> 2011-06-18 09:58:47, 2011-06-18 09:59:47, 2011-06-18 1...\n",
      "$ DT_E        <dttm> 2011-06-18 09:59:42, 2011-06-18 10:00:27, 2011-06-18 1...\n",
      "$ dist_M      <dbl> 0.0000, 211.7871, 192.3324, 204.8778, 209.1278, 183.363...\n",
      "$ distalong   <dbl> 0.0000, 211.7871, 404.1196, 608.9974, 818.1252, 1001.48...\n",
      "$ depth_mean  <dbl> 68.43658, 68.25401, 68.22956, 68.10563, 68.14753, 67.74...\n",
      "$ depth_plot  <dbl> 68.43658, 68.25401, 68.22956, 68.10563, 68.14753, 67.74...\n"
     ]
    }
   ],
   "source": [
    "# Join the bottom intervals data to the acoustic data\n",
    "data_sbf_full <- Sv_sbf %>%\n",
    "  select(-tm_interval) %>%\n",
    "  left_join(bottom_intervals, by = c(\"sp_interval\" = \"trkln_interval\")) %>% \n",
    "  mutate(depth_plot = ifelse(depth_mean >= 250, 250, depth_mean))\n",
    "\n",
    "# Glimpse the data \n",
    "# .... YOUR CODE FOR TASK 10 ....\n",
    "glimpse(data_sbf_full)"
   ]
  },
  {
   "cell_type": "markdown",
   "metadata": {
    "dc": {
     "key": "72"
    },
    "deletable": false,
    "editable": false,
    "run_control": {
     "frozen": true
    },
    "tags": [
     "context"
    ]
   },
   "source": [
    "## 11. Putting it all together\n",
    "<p>Woohoo! This has been a lot of data wrangling, but we're almost done. It's time to plot the mean volume backscatter in relation to the bathymetry (depth) along the track line. Because our y-axes are on two different scales, we'll create two plots and use a function from <code>grid.arrange()</code> again to put them in one figure.</p>"
   ]
  },
  {
   "cell_type": "code",
   "execution_count": 31,
   "metadata": {
    "dc": {
     "key": "72"
    },
    "tags": [
     "sample_code"
    ]
   },
   "outputs": [
    {
     "data": {
      "image/png": "[encoded data removed]",
      "text/plain": [
       "plot without title"
      ]
     },
     "metadata": {},
     "output_type": "display_data"
    }
   ],
   "source": [
    "# Top panel - assign the Sv plot\n",
    "Sv_mean_plot <- ggplot(data_sbf_full, aes( x = distalong, y = Sv_mean)) +\n",
    "  geom_line( size = 0.5) +\n",
    "  labs(y=expression(mean~volume~backscatter~S[v]~(dB))) +\n",
    "  theme(axis.title.x=element_blank())\n",
    "\n",
    "# Bottom panel - assign the bathymetry plot\n",
    "bthy <- ggplot(data_sbf_full, aes( x = distalong , y = depth_plot )) +\n",
    "  geom_line(size = 0.5) +\n",
    "  scale_y_reverse()+\n",
    "  labs(x = \"Distance along trackline (m)\", y = \"Depth (m)\")\n",
    "\n",
    "# Display the two panels in one figure\n",
    "grid.arrange(Sv_mean_plot, bthy)"
   ]
  },
  {
   "cell_type": "markdown",
   "metadata": {
    "dc": {
     "key": "79"
    },
    "deletable": false,
    "editable": false,
    "run_control": {
     "frozen": true
    },
    "tags": [
     "context"
    ]
   },
   "source": [
    "## 12. So, where are the fishes?\n",
    "<p>Nice looking plot!</p>\n",
    "<p>If we assume that all the backscatter energy is only from fishes with swim bladders, and greater backscatter indicates higher densities of fish, where are most of the fish on this track line?</p>"
   ]
  },
  {
   "cell_type": "code",
   "execution_count": 24,
   "metadata": {
    "dc": {
     "key": "79"
    },
    "tags": [
     "sample_code"
    ]
   },
   "outputs": [
    {
     "data": {
      "text/html": [
       "'Shelf'"
      ],
      "text/latex": [
       "'Shelf'"
      ],
      "text/markdown": [
       "'Shelf'"
      ],
      "text/plain": [
       "[1] \"Shelf\""
      ]
     },
     "metadata": {},
     "output_type": "display_data"
    }
   ],
   "source": [
    "# Where do you think the fish are along this track line?\n",
    "\n",
    "# Options: Shelf, Shelf Break, Offshore\n",
    "\n",
    "(where_are_the_fishes <- c(\"Shelf\"))"
   ]
  }
 ],
 "metadata": {
  "kernelspec": {
   "display_name": "R",
   "language": "R",
   "name": "ir"
  },
  "language_info": {
   "codemirror_mode": "r",
   "file_extension": ".r",
   "mimetype": "text/x-r-source",
   "name": "R",
   "pygments_lexer": "r",
   "version": "3.5.1"
  }
 },
 "nbformat": 4,
 "nbformat_minor": 2
}
